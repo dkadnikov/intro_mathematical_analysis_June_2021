{
 "cells": [
  {
   "cell_type": "markdown",
   "id": "e8b319a7",
   "metadata": {},
   "source": [
    "## Тема “Введение в математический анализ”\n",
    "1. Как соотносятся понятия “множество” и “последовательность”? (в ответе использовать слова типа: часть, целое, общее, частное, родитель, дочерний субъект и т. д.)\n",
    "2. Прочитать высказывания математической логики, построить их отрицания и установить истинность.\n",
    "\n",
    "- (тут должна быть фиолетовая картинка из задания: https://drive.google.com/file/d/1VWUuuuOFEQyR9O5ktdvv2u6zT9hIRgZw/view )\n"
   ]
  },
  {
   "cell_type": "markdown",
   "id": "9b25fe1d",
   "metadata": {},
   "source": [
    "### Решение задачи №1 (Тема “Введение в математический анализ”)"
   ]
  },
  {
   "cell_type": "markdown",
   "id": "d9c45504",
   "metadata": {},
   "source": [
    "- Множество - это совокупность каких-либо уникальных элементов. Элементы могут принимать любые значения, могут быть как упорядочены, так и неупорядочены. \n",
    "\n",
    "- Последовательность является дочерним элементом множеством. Последовательность - это упорядоченный пронумерованный набор элементов"
   ]
  },
  {
   "cell_type": "markdown",
   "id": "ac949f1d",
   "metadata": {},
   "source": [
    "### Решение задачи №2 (Тема “Введение в математический анализ”)"
   ]
  },
  {
   "cell_type": "markdown",
   "id": "4322b29c",
   "metadata": {},
   "source": [
    "1) ∀y ∈ [0;1]: sgn(y) = 1\n",
    "- Выражение ложно, отрицание: $\\,\\,\\, \\exists y\\in[0; 1]:\\,\\,sgn(y)\\neq1;$"
   ]
  },
  {
   "cell_type": "markdown",
   "id": "1300ee82",
   "metadata": {},
   "source": [
    "2) ∀n ∈ N>2: ∃x,y,z ∈ N: x^n=y^n + z^n\n",
    "- Выражение ложно, отрицание: $ \\exists n\\in\\mathbb{N} &gt; 2:\\,\\, \\forall x, y, z\\in\\mathbb{N}: x^n\\neq y^n + x^n;$$"
   ]
  },
  {
   "cell_type": "markdown",
   "id": "59c3abc8",
   "metadata": {},
   "source": [
    "3) ∀x ∈ R ∃ X ∈ R: X>x\n",
    "- Выражение истинно, отрицание: $\\,\\,\\, \\exists X\\in\\mathbb{R} \\forall X\\in\\mathbb{R}: X\\leqslant x$."
   ]
  },
  {
   "cell_type": "markdown",
   "id": "9851fb83",
   "metadata": {},
   "source": [
    "4) ∀x ∈ C∄y ∈ C: x>y||x<y\n",
    "- Выражение ложно, отрицание: $\\exists x\\in\\mathbb{C} \\exists y\\in\\mathbb{C}: x\\leqslant y||x\\geqslant y;$                          "
   ]
  },
  {
   "cell_type": "markdown",
   "id": "6aaebcd3",
   "metadata": {},
   "source": [
    "5) ∀y ∈ [0;π/2] ∃ε>0: sin(y) < sin(y+ε)\n",
    "- Выражение ложно, отрицание: $\\exists y\\in\\Bigl[0; \\frac{\\pi}{2}\\Bigr]\\,\\,\\,\\forall \\varepsilon&gt;0:\\,\\,\\, \\sin y\\geqslant \\sin(y+\\varepsilon);$$"
   ]
  },
  {
   "cell_type": "markdown",
   "id": "933fee5a",
   "metadata": {},
   "source": [
    "6) ∀y ∈ [0;π) ∃ε>0: cos(y) > cos(y+ε)\n",
    "\n",
    "- Выражение ложно, отрицание: $\\exists y\\in\\Bigl[0; \\pi\\Bigr)\\,\\,\\,\\forall \\varepsilon&gt;0:\\cos y\\leqslant \\cos(y+\\varepsilon);$$"
   ]
  },
  {
   "cell_type": "markdown",
   "id": "dd661eec",
   "metadata": {},
   "source": [
    "7) ∃x: x ∉ {N,Z,Q,R,C}\n",
    "\n",
    "- Выражение истинно. Отрицание: $\\forall x: x\\in \\{\\mathbb{N, Z, Q, R, C} \\}.$"
   ]
  },
  {
   "cell_type": "markdown",
   "id": "f8bdc7ec",
   "metadata": {},
   "source": [
    "## Тема “Множества”\n",
    "\n",
    "1. Даны три множества a,b и с. Необходимо выполнить все изученные виды бинарных операций над всеми комбинациями множеств.\n",
    "2. *Выполнить задание 1 на языке Python"
   ]
  },
  {
   "cell_type": "markdown",
   "id": "9792e37e",
   "metadata": {},
   "source": [
    "### Решение задачи №1 (Тема “Множества”)"
   ]
  },
  {
   "cell_type": "markdown",
   "id": "f7fbc6f7",
   "metadata": {},
   "source": [
    "a = {1, 2, 3, 4}\n",
    "<br>\n",
    "b = {2, 3, 4, 7, 8}\n",
    "<br>\n",
    "c = {4, 5, 6}\n",
    "\n",
    "- Объединение\n",
    "\n",
    "a ∪ b = {1, 2, 3, 4, 7, 8}\n",
    "<br>\n",
    "a ∪ c = {1, 2, 3, 4, 5, 6}\n",
    "<br>\n",
    "b ∪ c = {2, 3, 4, 5, 6, 7, 8}\n",
    "\n",
    "- Пересечение\n",
    "\n",
    "a ⋂ b = {2, 3, 4}\n",
    "<br>\n",
    "a ⋂ c = {4}\n",
    "<br>\n",
    "b ⋂ c = {4}\n",
    "\n",
    "- Разность\n",
    "\n",
    "a \\ b = {1}\n",
    "<br>\n",
    "b \\ a = {7, 8}\n",
    "<br>\n",
    "b \\ c = {2, 3, 7, 8}\n",
    "<br>\n",
    "c \\ b = {5, 6}\n",
    "<br>\n",
    "a \\ c = {1, 2, 3}\n",
    "<br>\n",
    "c \\ a = {5, 6}\n",
    "\n",
    "- Симметрическая разность\n",
    "\n",
    "a Δ b = {1, 7, 8}\n",
    "<br>\n",
    "b Δ a = {7, 8, 1}\n",
    "<br>\n",
    "b Δ c = {2, 3, 7, 8, 5, 6}\n",
    "<br>\n",
    "c Δ b = {5, 6, 2, 3, 7, 8}\n",
    "<br>\n",
    "a Δ c = {1, 2, 3, 5, 6}\n",
    "<br>\n",
    "c Δ a = {5, 6, 1, 2, 3}\n"
   ]
  },
  {
   "cell_type": "markdown",
   "id": "5151f4f0",
   "metadata": {},
   "source": []
  },
  {
   "cell_type": "markdown",
   "id": "6dc9e2eb",
   "metadata": {},
   "source": [
    "### Решение задачи №1 (Тема “Множества”)"
   ]
  },
  {
   "cell_type": "code",
   "execution_count": 5,
   "id": "01379d77",
   "metadata": {},
   "outputs": [],
   "source": [
    "a = {1, 2, 3, 4}\n",
    "b = {2, 3, 4, 7, 8}\n",
    "c = {4, 5, 6}"
   ]
  },
  {
   "cell_type": "code",
   "execution_count": 6,
   "id": "4e861cec",
   "metadata": {},
   "outputs": [
    {
     "name": "stdout",
     "output_type": "stream",
     "text": [
      "a | b:\n",
      "{1, 2, 3, 4, 7, 8}\n",
      "a | c:\n",
      "{1, 2, 3, 4, 5, 6}\n",
      "b | c:\n",
      "{2, 3, 4, 5, 6, 7, 8}\n"
     ]
    }
   ],
   "source": [
    "# операция объединение\n",
    "print('a | b:', a | b, \n",
    "      'a | c:', a | c, \n",
    "      'b | c:', b | c, sep='\\n')"
   ]
  },
  {
   "cell_type": "code",
   "execution_count": 7,
   "id": "0ff7fec5",
   "metadata": {},
   "outputs": [
    {
     "name": "stdout",
     "output_type": "stream",
     "text": [
      "a & b:\n",
      "{2, 3, 4}\n",
      "a & c:\n",
      "{4}\n",
      "b & c:\n",
      "{4}\n"
     ]
    }
   ],
   "source": [
    "# операция пересечение\n",
    "print('a & b:', a & b, \n",
    "      'a & c:', a & c, \n",
    "      'b & c:', b & c, sep='\\n')"
   ]
  },
  {
   "cell_type": "code",
   "execution_count": 8,
   "id": "796fea36",
   "metadata": {},
   "outputs": [
    {
     "name": "stdout",
     "output_type": "stream",
     "text": [
      "a - b: \n",
      "{1}\n",
      "a - c: \n",
      "{1, 2, 3}\n",
      "b - a: \n",
      "{8, 7}\n",
      "b - c: \n",
      "{8, 2, 3, 7}\n",
      "c - a: \n",
      "{5, 6}\n",
      "c - b: \n",
      "{5, 6}\n"
     ]
    }
   ],
   "source": [
    "# операция разность\n",
    "print('a - b: ', a - b, \n",
    "      'a - c: ', a - c, \n",
    "      'b - a: ', b - a, \n",
    "      'b - c: ', b - c, \n",
    "      'c - a: ', c - a, \n",
    "      'c - b: ', c - b, sep='\\n')"
   ]
  },
  {
   "cell_type": "code",
   "execution_count": 9,
   "id": "1cc0bf6d",
   "metadata": {},
   "outputs": [
    {
     "name": "stdout",
     "output_type": "stream",
     "text": [
      "a ^ b: \n",
      "{1, 7, 8}\n",
      "a ^ c: \n",
      "{1, 2, 3, 5, 6}\n",
      "b ^ a: \n",
      "{1, 7, 8}\n",
      "b ^ c: \n",
      "{2, 3, 5, 6, 7, 8}\n",
      "c ^ a: \n",
      "{1, 2, 3, 5, 6}\n",
      "c ^ b: \n",
      "{2, 3, 5, 6, 7, 8}\n"
     ]
    }
   ],
   "source": [
    "# операция симметрическая разность\n",
    "print('a ^ b: ', a ^ b, \n",
    "      'a ^ c: ', a ^ c, \n",
    "      'b ^ a: ', b ^ a, \n",
    "      'b ^ c: ', b ^ c, \n",
    "      'c ^ a: ', c ^ a, \n",
    "      'c ^ b: ', c ^ b, sep='\\n')"
   ]
  },
  {
   "cell_type": "code",
   "execution_count": null,
   "id": "359f08c6",
   "metadata": {},
   "outputs": [],
   "source": []
  }
 ],
 "metadata": {
  "kernelspec": {
   "display_name": "Python 3",
   "language": "python",
   "name": "python3"
  },
  "language_info": {
   "codemirror_mode": {
    "name": "ipython",
    "version": 3
   },
   "file_extension": ".py",
   "mimetype": "text/x-python",
   "name": "python",
   "nbconvert_exporter": "python",
   "pygments_lexer": "ipython3",
   "version": "3.8.8"
  }
 },
 "nbformat": 4,
 "nbformat_minor": 5
}
