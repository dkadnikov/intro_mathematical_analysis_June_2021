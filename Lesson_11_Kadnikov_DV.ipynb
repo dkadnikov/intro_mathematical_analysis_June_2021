{
 "cells": [
  {
   "cell_type": "markdown",
   "id": "27d6197b",
   "metadata": {},
   "source": [
    "### Урок 11. Интеграл. Ряды. Часть 2"
   ]
  },
  {
   "cell_type": "markdown",
   "id": "622933d4",
   "metadata": {},
   "source": [
    "----------------\n",
    "## Решение:\n",
    "\n"
   ]
  },
  {
   "cell_type": "markdown",
   "id": "42fb0f47",
   "metadata": {},
   "source": [
    "#### 1. Исследовать ряд на сходимость, используя признак д’Аламбера:\n",
    "\n",
    "$\\sum_{k=1}^\\infty \\frac{n^n}{(n!)^2}$ <br>\n",
    "$q=\\lim\\limits_{x \\to \\infty}\\frac{(n+1)^n*(n+1)}{((n+1!))^2}*\\frac{(n!)^2}{n^n}=$ ... $=\\frac{(1+\\frac{1}{n})^n}{n+1}=\\frac{e}{\\infty}=0$<br>\n",
    "Так как q<1, то Ряд - сходится<br>\n",
    "\n",
    "#### 2. Исследовать ряд на сходимость, используя радикальный признак Коши:\n",
    "\n",
    "$\\sum_{k=1}^\\infty \\frac{n}{2^n}$<br>\n",
    "$\\lim\\limits_{x \\to \\infty}\\sqrt[n]{\\frac{n}{2^n}}=\\frac{1}{2}\\lim\\limits_{x \\to \\infty}\\sqrt[n]{n}=\\frac{1}{2}$<br>\n",
    "Так как q<1 и q != 1, то Ряд сходится<br>\n",
    "\n",
    "#### 3. Исследовать ряд на сходимость, используя признак Лейбница:\n",
    "\n",
    "$\\sum_{k=1}^\\infty \\frac{(-1)^n}{n+\\ln(n)}$<br>\n",
    "$\\lim\\limits_{x \\to \\infty}\\left|\\frac{(-1)^n}{n+\\ln(n)}\\right|=0$, монотонно убывает<br>\n",
    "Т.к. предел равен 0 и каждое следущее число меньше, чем предыдущее - Ряд сходится - условно<br>\n",
    "\n",
    "#### 4. Исследовать ряд на сходимость, используя признак Раабе:\n",
    "\n",
    "$\\sum_{k=1}^\\infty \\frac{3^n}{2^n}$<br>\n",
    "$\\lim\\limits_{x \\to \\infty}\\left(n*\\left(\\frac{\\frac{3^n}{2^n}}{\\frac{3^{n+1}}{2^{n+1}}}-1\\right)\\right)=-\\infty$<br>\n",
    "Ряд РАСходится<br>\n",
    "\n",
    "#### 5. Разложить функцию по Тейлору в единице:\n",
    "\n",
    "$f(x)=\\ln(16x^2)$<br>\n",
    "$\\ln(16)+\\frac{2}{1!}(x-1)^1-\\frac{2}{2!}(x-1)^2+\\frac{4}{3!}(x-1)^3-\\frac{12}{4!}(x-1)^4...$<br>\n",
    "\n",
    "\n",
    "#### 6. * Дана функция .\n",
    "- Разложить функцию в ряд Фурье по косинусам на отрезке .\n",
    "- Построить график функции и ее разложения.\n"
   ]
  },
  {
   "cell_type": "code",
   "execution_count": null,
   "id": "6bb979de",
   "metadata": {},
   "outputs": [],
   "source": []
  }
 ],
 "metadata": {
  "kernelspec": {
   "display_name": "Python 3",
   "language": "python",
   "name": "python3"
  },
  "language_info": {
   "codemirror_mode": {
    "name": "ipython",
    "version": 3
   },
   "file_extension": ".py",
   "mimetype": "text/x-python",
   "name": "python",
   "nbconvert_exporter": "python",
   "pygments_lexer": "ipython3",
   "version": "3.8.8"
  }
 },
 "nbformat": 4,
 "nbformat_minor": 5
}
