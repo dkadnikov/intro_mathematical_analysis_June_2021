{
 "cells": [
  {
   "cell_type": "code",
   "execution_count": null,
   "id": "798f914d",
   "metadata": {},
   "outputs": [],
   "source": []
  },
  {
   "cell_type": "markdown",
   "id": "855deaff",
   "metadata": {},
   "source": [
    "### Тема “Предел функции”\n",
    "\n",
    "1. Предложить пример функции, не имеющей предела в нуле и в бесконечностях.\n",
    "2. Привести пример функции, не имеющей предела в точке, но определенной в ней.\n",
    "3. Исследовать функцию  $f(x) = x^3 - x^2$ по плану:\n",
    "\n",
    "a. Область задания и область значений.<br>\n",
    "b. Нули функции и их кратность.<br>\n",
    "c. Отрезки знакопостоянства.<br>\n",
    "d. Интервалы монотонности.<br>\n",
    "e. Четность функции.<br>\n",
    "f. Ограниченность.<br>\n",
    "g. Периодичность.<br>\n",
    "\n",
    "\n",
    "\n",
    "\n",
    "4. Найти предел:\n",
    "\n",
    "$a. \\displaystyle \\lim_{x \\to 0} \\frac{3x^3 - 2x^2}{4x^2}$ <br>\n",
    "$b. \\star \\displaystyle \\lim_{x\\to0} \\frac{\\sqrt{1+x} - 1}{\\sqrt[3]{1+x} - 1}$ <br>\n",
    "$c. \\star \\displaystyle \\lim_{x\\to\\infty} \\left( \\frac{x+3}{x} \\right)^{4x+1}$ <br>\n"
   ]
  },
  {
   "cell_type": "markdown",
   "id": "7dbd9bec",
   "metadata": {},
   "source": [
    "### Тема “Теоремы о пределах”\n",
    "Найти предел:\n"
   ]
  },
  {
   "cell_type": "markdown",
   "id": "212ea386",
   "metadata": {},
   "source": [
    "$a. \\displaystyle \\lim_{x\\to 0} \\frac{\\sin(2x)}{4x}$<br>\n",
    "$b. \\displaystyle \\lim_{x\\to0} \\frac{x}{\\sin(x)}$<br>\n",
    "$c. \\displaystyle \\lim_{x\\to0} \\frac{x}{\\arcsin(x)}$<br>\n",
    "$d. \\displaystyle \\lim_{x\\to\\infty} \\left( \\frac{4x+3}{4x-3} \\right)^{6x}$<br>\n",
    "$e. \\star \\displaystyle \\lim_{x\\to\\infty} \\frac{\\sin x + \\ln x}{x} = $<br>\n",
    "$f. \\star \\displaystyle \\lim_{x\\to0} \\frac{\\sin(x) + \\ln(x)}{x}$<br>"
   ]
  },
  {
   "cell_type": "markdown",
   "id": "e4fbb095",
   "metadata": {},
   "source": [
    "### Решение:"
   ]
  },
  {
   "cell_type": "markdown",
   "id": "4edff684",
   "metadata": {},
   "source": [
    "#### Тема “Предел функции”\n",
    "\n",
    "#### 1. Предложить пример функции, не имеющей предела в нуле и в бесконечностях."
   ]
  },
  {
   "cell_type": "markdown",
   "id": "0520ac52",
   "metadata": {},
   "source": [
    "$\\displaystyle \\lim_{x \\to \\infty} f(x) = \\frac{1}{x^2 + 1} + 1$"
   ]
  },
  {
   "cell_type": "markdown",
   "id": "850d1c89",
   "metadata": {},
   "source": [
    "#### 2. Привести пример функции, не имеющей предела в точке, но определенной в ней."
   ]
  },
  {
   "cell_type": "markdown",
   "id": "f9cd7341",
   "metadata": {},
   "source": [
    "$f(x) = sin(x)$"
   ]
  },
  {
   "cell_type": "markdown",
   "id": "056ba37b",
   "metadata": {},
   "source": [
    "#### 3. Исследовать функцию  $f(x) = x^3 - x^2$ по плану:\n"
   ]
  },
  {
   "cell_type": "markdown",
   "id": "a4dcc248",
   "metadata": {},
   "source": [
    "a. Область задания $(-\\infty;+\\infty), \\{x|x\\in \\mathbb{R}\\}$<br>\n",
    "Область значений $(-\\infty;+\\infty), \\{y|y\\in \\mathbb{R}\\}$<br>\n",
    "b. Нули функции и их кратность x=0 (кратность 2), x=1 (кратность 1)<br>\n",
    "c. Отрезки знакопостоянства:<br>\n",
    "$f(x)\\gt0 - x\\in(1;\\infty)$<br> \n",
    "$f(x)\\lt0 - x\\in(-\\infty; 0)\\cup(0; 1)$<br>\n",
    "d. Интервалы монотонности $(-\\infty;0), \\ (0;\\frac{2}{3}), \\ (\\frac{2}{3}; +\\infty)$<br>\n",
    "e. Четность функции - функция не является четной или нечетной<br>\n",
    "f. Ограниченность - функция не огранина<br>\n",
    "g. Периодичность - нет<br>\n"
   ]
  },
  {
   "cell_type": "markdown",
   "id": "3ff579c9",
   "metadata": {},
   "source": [
    "#### 4. Найти предел:\n",
    "\n",
    "$a. \\lim\\limits_{x \\to 0}{\\frac{3x^3-2x^2}{4x^2}} = -\\frac{1}{2}$<br>\n",
    "$b. \\lim\\limits_{x \\to 0}{\\frac{\\sqrt{1+x}-1}{\\sqrt[3]{1+x}-1}} = \\frac{3}{2}$<br>\n",
    "$c. \\lim\\limits_{x \\to \\infty}{\\left(\\frac{x+3}{x}\\right)^{4x+1}} = e^{12}$<br>"
   ]
  },
  {
   "cell_type": "markdown",
   "id": "b5509784",
   "metadata": {},
   "source": [
    "### Тема “Теоремы о пределах”\n",
    "#### Найти предел:"
   ]
  },
  {
   "cell_type": "markdown",
   "id": "70ce9f90",
   "metadata": {},
   "source": [
    "$a. \\lim\\limits_{x \\to 0}{\\frac{sin(2x)}{4x}} = \\frac{1}{2}$<br>\n",
    "$b. \\lim\\limits_{x \\to 0}{\\frac{x}{sin(x)}} = 1$<br>\n",
    "$c. \\lim\\limits_{x \\to 0}{\\frac{x}{arcsin(x)}} = 1$<br>\n",
    "$d. \\lim\\limits_{x \\to \\infty}{\\left(\\frac{4x+3}{4x-3}\\right)^{6x}} = e^9$<br>"
   ]
  },
  {
   "cell_type": "markdown",
   "id": "7bbbd015",
   "metadata": {},
   "source": [
    "$e. \\star \\displaystyle \\lim_{x\\to\\infty} \\frac{\\sin x + \\ln x}{x} = 0$<br>  (Теорема сжатия)<br> \n",
    "$f. \\star \\displaystyle \\lim_{x\\to0} \\frac{\\sin(x) + \\ln(x)}{x}$<br>  (Предел не существует, тк. предел в области определения слева от 0 не имеет значений и как следствие он не существует.)<br>  "
   ]
  },
  {
   "cell_type": "code",
   "execution_count": null,
   "id": "7f0c6523",
   "metadata": {},
   "outputs": [],
   "source": []
  }
 ],
 "metadata": {
  "kernelspec": {
   "display_name": "Python 3",
   "language": "python",
   "name": "python3"
  },
  "language_info": {
   "codemirror_mode": {
    "name": "ipython",
    "version": 3
   },
   "file_extension": ".py",
   "mimetype": "text/x-python",
   "name": "python",
   "nbconvert_exporter": "python",
   "pygments_lexer": "ipython3",
   "version": "3.8.8"
  }
 },
 "nbformat": 4,
 "nbformat_minor": 5
}
