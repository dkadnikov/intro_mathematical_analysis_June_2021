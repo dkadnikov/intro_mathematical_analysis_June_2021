{
 "cells": [
  {
   "cell_type": "code",
   "execution_count": 4,
   "id": "a8a70061",
   "metadata": {},
   "outputs": [],
   "source": [
    "import numpy as np"
   ]
  },
  {
   "cell_type": "markdown",
   "id": "6b56d03b",
   "metadata": {},
   "source": [
    "### Теема 6 “Понятие о производной”\n",
    "#### 1. Найти производную выражения:\n",
    "\n",
    "$(\\sin x \\cdot \\cos x )'$ = $\\cos^2 x - \\sin^2 x$\n",
    "<br>\n",
    "$(\\ln(2x+1)^3)'$ = $ \\frac{6\\ln(2x+1)^2}{2x + 1}$\n",
    "<br>\n",
    "$(\\sqrt{\\sin^2(\\ln(x^3))})'$ = $\\frac{3\\sqrt{\\sin^2(\\ln(x^3))}\\cot(\\ln(x^3))}{x}$\n",
    "<br>\n",
    "$(\\frac{x^4}{\\ln(x)})'$ = $\\frac{x^3 (4\\ln(x) - 1)}{\\ln(x)^2}$\n",
    "<br>\n",
    "\n",
    "#### 2. Найти выражение производной функции и ее значение в точке:<br>\n",
    "$f(x)=\\cos(x^2+3x)\\text{,   }x_0=\\sqrt\\pi $<br>\n",
    "$f(x)'=-(3+2x)\\sin(x^2+3x)$<br>\n",
    "$f(x_0)'=(3+2\\sqrt\\pi)\\sin(3\\sqrt\\pi)$<br>"
   ]
  },
  {
   "cell_type": "code",
   "execution_count": 5,
   "id": "99f6b028",
   "metadata": {},
   "outputs": [
    {
     "data": {
      "text/plain": [
       "-5.383302410890619"
      ]
     },
     "execution_count": 5,
     "metadata": {},
     "output_type": "execute_result"
    }
   ],
   "source": [
    "-(3 + 2*np.sqrt(np.pi))*np.sin(np.sqrt(np.pi)**2 + 3*np.sqrt(np.pi))"
   ]
  },
  {
   "cell_type": "markdown",
   "id": "02bba6f8",
   "metadata": {},
   "source": [
    "#### 3. * Найти значение производной функции в точке:"
   ]
  },
  {
   "cell_type": "markdown",
   "id": "2dabeb46",
   "metadata": {},
   "source": [
    "$f(x)=\\frac{x^3-x^2-x-1}{1+2x+3x^2-4x^3}\\text{,   }x_0=0$<br>\n",
    "$f(x_0)'=\\frac{x^4+4x^3+8x^2-4x-1}{(1+2x+3x^2-4x^3)^2} = -1$<br>"
   ]
  },
  {
   "cell_type": "markdown",
   "id": "a7d4724a",
   "metadata": {},
   "source": [
    "#### 4.  Найти угол наклона касательной к графику функции в точке:"
   ]
  },
  {
   "cell_type": "markdown",
   "id": "e22cba39",
   "metadata": {},
   "source": [
    "$f(x)=\\sqrt{3x}\\cdot \\ln x, x_0 = 1$<BR>\n",
    "$f(x)'=\\frac{\\sqrt{3x}(2 + \\ln x)}{2\\sqrt{x}} $<BR>"
   ]
  },
  {
   "cell_type": "markdown",
   "id": "d171dabb",
   "metadata": {},
   "source": [
    "При $x_0 = 1$ => $\\sqrt{3}$, угол наклона равен 60 $^\\circ$"
   ]
  },
  {
   "cell_type": "code",
   "execution_count": null,
   "id": "e0eac191",
   "metadata": {},
   "outputs": [],
   "source": []
  }
 ],
 "metadata": {
  "kernelspec": {
   "display_name": "Python 3",
   "language": "python",
   "name": "python3"
  },
  "language_info": {
   "codemirror_mode": {
    "name": "ipython",
    "version": 3
   },
   "file_extension": ".py",
   "mimetype": "text/x-python",
   "name": "python",
   "nbconvert_exporter": "python",
   "pygments_lexer": "ipython3",
   "version": "3.8.8"
  }
 },
 "nbformat": 4,
 "nbformat_minor": 5
}
