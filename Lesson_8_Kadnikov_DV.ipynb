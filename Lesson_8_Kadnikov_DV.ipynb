{
 "cells": [
  {
   "cell_type": "markdown",
   "id": "df6e6849",
   "metadata": {},
   "source": [
    "### Урок 8. Домашнее задание по теме «Производные функций нескольких переменных».\n"
   ]
  },
  {
   "cell_type": "markdown",
   "id": "88237514",
   "metadata": {},
   "source": [
    "\n",
    " \n",
    "1.       Найти область определения функции.\n",
    "\n",
    "<br>\n",
    "$ \\large{z = \\sqrt{1- x^3} + ln(y^2-1) } $<br>\n",
    "\n",
    "2.       Найти производные 1-го порядка функции.\n",
    "\n",
    "<br>\n",
    "$ \\large{ z = (1+\\frac{ln(x)}{ln(y)})^3 } $<br>\n",
    "<br>\n",
    "\n",
    "3.       Найти полный дифференциал функции в точке (1;1).\n",
    "\n",
    "<br>\n",
    "$ \\large{ z = \\sqrt{2xy+cos\\frac{x}{y}} } $<br>\n",
    "<br>\n",
    "\n",
    "4.       Исследовать на экстремум функцию\n",
    "\n",
    "<br>\n",
    "$ \\large{z = x^3 + xy + y^2 -6x -9y } $<br>\n"
   ]
  },
  {
   "cell_type": "markdown",
   "id": "65e152e1",
   "metadata": {},
   "source": [
    "----------------\n",
    "## Решение:\n",
    "\n"
   ]
  },
  {
   "cell_type": "markdown",
   "id": "1fbd10d8",
   "metadata": {},
   "source": [
    "\n",
    "### 1. Найти область определения функции<br>\n",
    "<br>\n",
    "$ \\large{ \\sqrt{1- x^3} + ln(y^2-1) } $<br>\n",
    "<br>\n",
    "$ \\large{ (y\\gt; 1; x\\lt;= 1) || (y\\lt;-1; x\\lt;=1) } $<br>\n",
    "<br>\n",
    "\n",
    "### 2. Найти производные 1-го порядка функции<br>\n",
    "\n",
    "<br>\n",
    "$ \\large{ z = (1+\\frac{ln(x)}{ln(y)})^3 } $<br>\n",
    "<br>\n",
    "$ \\large{ \\frac{d}{dx}f(x,y)= \\frac{3(\\frac{ln(x)}{ln(y)}+1)^2}{x*ln(y)} }$<br>\n",
    "<br>\n",
    "$ \\large{ \\frac{d}{dy}f(x,y)= \\frac{3(\\frac{ln(x)}{ln(y)}+1)^2*ln(x)}{y*ln(y)^2} }$<br>\n",
    "<br>\n",
    "$ \\large{ \\frac{dy}{dx} = y* \\frac{ln(y)}{x*ln(x)} } $<br>\n",
    "<br>\n",
    "\n",
    "### 3. Найти полный дифференциал функции в точке (1;1)<br>\n",
    "<br>\n",
    "$ \\large{ \\sqrt{2xy+cos\\frac{x}{y}} } $<br>\n",
    "<br>\n",
    "$ \\large { (\\frac{y-\\frac{sin(\\frac{x}{y})}{2y}}{\\sqrt{2xy+cos(\\frac{x}{y})}})dx + (\\frac{x+\\frac{xsin(\\frac{x}{y})}{2y^2}}{\\sqrt{2xy+cos(\\frac{x}{y})}})dy } $<br>\n",
    "<br>\n",
    "$ \\large { dz(1;1) = (\\frac{2-sin(1)}{2\\sqrt{2+cos(1)}})dx + \\frac{2+sin(1)}{2\\sqrt{2+cos(1)}} dy } $<br>\n",
    "$ \\large { dz(1;1) = (0.364dx+0.891dy) }$<br>\n",
    "<br>\n",
    "\n",
    "### 4. Исследовать на экстремум функцию<br>\n",
    "<br>\n",
    "$ \\large{ x^3 + xy + y^2 -6x -9y } $<br>\n",
    "$ \\large{ z'_x = 2x+y-6 } $<br>\n",
    "$ \\large{ z'_y = x+2y-9 } $<br>\n",
    "$ \\large{ z''_{xx} = 2 } $<br>\n",
    "$ \\large{ z''_{yy} = 2 } $<br>\n",
    "$ \\large{ z''_{xy} = 1 } $<br>\n",
    "$ \\large{ z''_{yx} = 1 } $<br>\n",
    "<br>\n",
    "$\\large{ (1;4) }$<br>"
   ]
  },
  {
   "cell_type": "code",
   "execution_count": null,
   "id": "8a010189",
   "metadata": {},
   "outputs": [],
   "source": []
  }
 ],
 "metadata": {
  "kernelspec": {
   "display_name": "Python 3",
   "language": "python",
   "name": "python3"
  },
  "language_info": {
   "codemirror_mode": {
    "name": "ipython",
    "version": 3
   },
   "file_extension": ".py",
   "mimetype": "text/x-python",
   "name": "python",
   "nbconvert_exporter": "python",
   "pygments_lexer": "ipython3",
   "version": "3.8.8"
  }
 },
 "nbformat": 4,
 "nbformat_minor": 5
}
