{
 "cells": [
  {
   "cell_type": "markdown",
   "id": "df6e6849",
   "metadata": {},
   "source": [
    "### Урок 7. Производная функции одной переменной. Часть 2\n",
    "#### No1. Найти длину 𝑥 и ширину 𝑦 прямоугольника при заданном периметре 𝑃=144 cм, при которых данный прямоугольник имеет наибольшую площадь 𝑆."
   ]
  },
  {
   "cell_type": "markdown",
   "id": "88237514",
   "metadata": {},
   "source": [
    "#### No2. найти экстремумы функций (если они есть)<br>\n",
    "𝑦= 2𝑥<br>\n",
    "𝑦 = 𝑥3 𝑦 = 𝑒3𝑥<br>\n",
    "𝑦 = 𝑥3 − 5𝑥<br>"
   ]
  },
  {
   "cell_type": "markdown",
   "id": "65e152e1",
   "metadata": {},
   "source": [
    "----------------\n",
    "## Решение:\n",
    "\n"
   ]
  },
  {
   "cell_type": "markdown",
   "id": "1fbd10d8",
   "metadata": {},
   "source": [
    "----------------\n",
    "### No1. \n",
    "\n",
    "$ \\large { p = 2(x+y) } $<br>\n",
    "$ \\large{ s = x*y } $<br>\n",
    "$ \\large { 144 = 2(x+y)} $<br>\n",
    "$ \\large { 72 = x+y } $<br>\n",
    "$ \\large { 72 / 2 = 36 } $<br>\n",
    "\n",
    "----------------"
   ]
  },
  {
   "cell_type": "markdown",
   "id": "6a823bb0",
   "metadata": {},
   "source": [
    "----------------\n",
    "### No2.\n",
    "\n",
    "$ \\large{ y = |2x| } $<br>\n",
    "<br>\n",
    "$ \\large{ \\frac{d}{dx}|2x| = 2sign(x) } $<br>\n",
    "<br>\n",
    "$ \\large{ 2sign(x) = 0 } $<br>\n",
    "<br>\n",
    "$ \\large{ X_1=0 } $<br>\n",
    "<br>\n",
    "Экстремумы в точках (0,0)<br>\n",
    "\n",
    "----------------\n",
    "\n",
    "<br>\n",
    "$ \\large{ y = x^3 } $<br>\n",
    "<br>\n",
    "$ \\large{ \\frac{d}{dx}x^3 = 3x^2 } $<br>\n",
    "<br>\n",
    "$ \\large{ 3x^2 = 0 } $<br>\n",
    "<br>\n",
    "$ \\large{ X_1=0 } $<br>\n",
    "<br>\n",
    "Экстремумы в точках (0,0)<br>\n",
    "\n",
    "----------------\n",
    "$ \\large{ y = e^{3x} } $<br>\n",
    "<br>\n",
    "$ \\large{ \\frac{d}{dx}e^{3x} = 3e^{3x} } $<br>\n",
    "<br>\n",
    "Нет экстремумов<br>\n",
    "\n",
    "----------------\n",
    "$ \\large{ y = x^3-5x } $<br>\n",
    "<br>\n",
    "$ \\large{ \\frac{d}{dx}x^3-5x = 3x^2-5 } $<br>\n",
    "<br>\n",
    "$ \\large{ 3x^2-5 = 0 } $<br>\n",
    "<br>\n",
    "$ \\large{ x_1= -\\frac{\\sqrt{15}}{3}, x_2 = \\frac{\\sqrt{15}}{3} } $<br>\n",
    "<br>\n",
    "Экстремумы в точках $ \\large{(-\\frac{\\sqrt{15}}{3},\\frac{\\sqrt{15}}{3})} $<br>\n",
    "\n",
    "----------------"
   ]
  },
  {
   "cell_type": "code",
   "execution_count": null,
   "id": "8a010189",
   "metadata": {},
   "outputs": [],
   "source": []
  }
 ],
 "metadata": {
  "kernelspec": {
   "display_name": "Python 3",
   "language": "python",
   "name": "python3"
  },
  "language_info": {
   "codemirror_mode": {
    "name": "ipython",
    "version": 3
   },
   "file_extension": ".py",
   "mimetype": "text/x-python",
   "name": "python",
   "nbconvert_exporter": "python",
   "pygments_lexer": "ipython3",
   "version": "3.8.8"
  }
 },
 "nbformat": 4,
 "nbformat_minor": 5
}
