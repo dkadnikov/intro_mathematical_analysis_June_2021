{
 "cells": [
  {
   "cell_type": "markdown",
   "id": "a8be1e91",
   "metadata": {},
   "source": [
    "### Урок 10. Интеграл. Ряды. Часть 1\n",
    "\n",
    "\n",
    "#### 1. Найти неопределенный интеграл:\n",
    "\n",
    "$ \\large{ \\int (2x^2-2x-1+sin(x)-cos(x)+ln(x)+e^x)dx } $\n",
    "\n",
    "#### 2.Найти неопределенный интеграл:\n",
    "\n",
    "$ \\large{ \\int (2x+6xz^2-5x^2y-3ln(z))dx } $\n",
    "\n",
    "#### 3.Вычислить определенный интеграл:\n",
    "\n",
    "$\\large { \\int_{0}^{\\pi} 3x^2sin(2x)dx }$\n",
    "\n",
    "#### 4.Найти неопределенный интеграл:\n",
    "\n",
    "$ \\large{ \\int (\\frac{1}{\\sqrt{x+1}})dx } $\n"
   ]
  },
  {
   "cell_type": "markdown",
   "id": "517ab56a",
   "metadata": {},
   "source": [
    "----------------\n",
    "## Решение:\n",
    "\n",
    "\n",
    "\n"
   ]
  },
  {
   "cell_type": "markdown",
   "id": "6459766a",
   "metadata": {},
   "source": [
    "#### 1. Найти неопределенный интеграл:\n",
    "\n",
    "$\\large{ \\int(2x^2-2x-1+\\sin(x)-\\cos(x)+\\ln(x)+e^x)dx=}$<br>\n",
    "\n",
    "$\\large{ 2\\int x^2dx-2\\int xdx-\\int dx+\\int\\sin(x)dx-\\int\\cos(x)dx+\\int\\ln(x)dx+\\int e^xdx=}$<br>\n",
    "<br>\n",
    "$\\large{ \\frac{2}{3}x^3-x^2-x-\\cos(x)-\\sin(x)+x(\\ln(x)-1)+e^x+C}$<br>\n",
    "<br>"
   ]
  },
  {
   "cell_type": "markdown",
   "id": "eb6de211",
   "metadata": {},
   "source": [
    "\n",
    "#### 2.Найти неопределенный интеграл:\n",
    "\n",
    "$ \\large{ \\int (2x+6xz^2-5x^2y-3ln(z))dx } $\n",
    "\n",
    "$ \\large{\n",
    "\\int\\left(2 x+6 x z^{2}-5 x^{2} y-3 \\ln z\\right) d x = x^2 + 3x^2z^2 - \\frac{5}{3}x^3y - 3\\ln z x + C\n",
    "} $"
   ]
  },
  {
   "cell_type": "markdown",
   "id": "04b6d779",
   "metadata": {},
   "source": [
    "#### 3.Вычислить определенный интеграл:\n",
    "\n",
    "$\\large { \\int_{0}^{\\pi} 3x^2sin(2x)dx }$"
   ]
  },
  {
   "cell_type": "markdown",
   "id": "e0c87de2",
   "metadata": {},
   "source": [
    "$ \\large {\n",
    "3\\int\\limits_0^{\\pi} x^{2} \\sin (2 x) d x = -\\frac{3}{2} \\int\\limits_0^{\\pi} x^{2} d \\cos (2 x) = -\\frac{3}{2}\\left(x^{2} \\cos (2 x)-\\int\\limits_0^{\\pi} \\cos (2 x) d\\left(x^{2}\\right)\\right) = -\\frac{3}{2}\\left(x^{2} \\cos (2 x)-\\frac{2}{2} \\int\\limits_0^{\\pi} x \\cdot d \\sin (2 x)\\right) = -\\frac{3}{2}\\left(x^{2} \\cos (2 x) ^{\\pi}+\\frac{2}{2}\\left(x \\cdot \\sin (2 x) - \\int\\limits_0^{\\pi} \\sin (2 x) d x\\right)\\right)= -\\frac{3}{2}(\\left.(x^{2} \\cos (2 x)+\\frac{2}{2}\\left(x \\cdot \\sin (2 x) + \\frac{1}{2}\\cos (2 x)\\right)) \\right|_0^{\\pi} = -\\frac{3}{2} ({\\pi}^2 + \\frac{1}{2} - \\frac{1}{2} ) = -\\frac{3}{2} {\\pi}^2\n",
    "}$"
   ]
  },
  {
   "cell_type": "markdown",
   "id": "38ded016",
   "metadata": {},
   "source": [
    "#### 4.Найти неопределенный интеграл:\n",
    "\n",
    "$ \\large{ \\int (\\frac{1}{\\sqrt{x+1}})dx } $"
   ]
  },
  {
   "cell_type": "markdown",
   "id": "66c3ced7",
   "metadata": {},
   "source": [
    "$ \\large{\n",
    "\\int\\frac{1}{\\sqrt{x+1}}dx=2(x+1)^{\\frac{1}{2}}+C\n",
    "}$"
   ]
  }
 ],
 "metadata": {
  "kernelspec": {
   "display_name": "Python 3",
   "language": "python",
   "name": "python3"
  },
  "language_info": {
   "codemirror_mode": {
    "name": "ipython",
    "version": 3
   },
   "file_extension": ".py",
   "mimetype": "text/x-python",
   "name": "python",
   "nbconvert_exporter": "python",
   "pygments_lexer": "ipython3",
   "version": "3.8.8"
  }
 },
 "nbformat": 4,
 "nbformat_minor": 5
}
